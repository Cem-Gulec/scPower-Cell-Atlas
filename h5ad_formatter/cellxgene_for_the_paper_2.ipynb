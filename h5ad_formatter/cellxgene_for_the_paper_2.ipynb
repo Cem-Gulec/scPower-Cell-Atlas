{
 "cells": [
  {
   "cell_type": "code",
   "execution_count": 1,
   "metadata": {},
   "outputs": [],
   "source": [
    "import scanpy as sc\n",
    "import pandas as pd\n",
    "import sys\n",
    "import numpy as np\n",
    "import re"
   ]
  },
  {
   "cell_type": "markdown",
   "metadata": {},
   "source": [
    "This object holds the full raw counts which are also required for upload to cellxgene"
   ]
  },
  {
   "cell_type": "code",
   "execution_count": 2,
   "metadata": {},
   "outputs": [
    {
     "ename": "NameError",
     "evalue": "name 'raw_input_file' is not defined",
     "output_type": "error",
     "traceback": [
      "\u001b[1;31m---------------------------------------------------------------------------\u001b[0m",
      "\u001b[1;31mNameError\u001b[0m                                 Traceback (most recent call last)",
      "\u001b[1;32m~\\AppData\\Local\\Temp/ipykernel_16548/3515440171.py\u001b[0m in \u001b[0;36m<module>\u001b[1;34m\u001b[0m\n\u001b[1;32m----> 1\u001b[1;33m \u001b[0mraw_obj\u001b[0m \u001b[1;33m=\u001b[0m \u001b[0msc\u001b[0m\u001b[1;33m.\u001b[0m\u001b[0mread\u001b[0m\u001b[1;33m(\u001b[0m\u001b[0mraw_input_file\u001b[0m\u001b[1;33m)\u001b[0m\u001b[1;33m\u001b[0m\u001b[1;33m\u001b[0m\u001b[0m\n\u001b[0m",
      "\u001b[1;31mNameError\u001b[0m: name 'raw_input_file' is not defined"
     ]
    }
   ],
   "source": [
    "raw_obj = sc.read(raw_input_file)"
   ]
  },
  {
   "cell_type": "markdown",
   "metadata": {},
   "source": [
    "Use the adipocytes as an example to test things, because it is small. This object has the embeddings etc."
   ]
  },
  {
   "cell_type": "code",
   "execution_count": 2,
   "metadata": {},
   "outputs": [],
   "source": [
    "new_obj = sc.read(\"local.h5ad\")"
   ]
  },
  {
   "cell_type": "code",
   "execution_count": 3,
   "metadata": {},
   "outputs": [
    {
     "data": {
      "text/plain": [
       "AnnData object with n_obs × n_vars = 97499 × 22224\n",
       "    obs: 'n_genes', 'n_counts', 'Batch', 'Donor_ID', 'Sample_ID', 'SARS-CoV-2_PCR', 'Group', 'Annotation', 'assay_ontology_term_id', 'cell_type_ontology_term_id', 'development_stage_ontology_term_id', 'disease_ontology_term_id', 'ethnicity_ontology_term_id', 'is_primary_data', 'organism_ontology_term_id', 'sex_ontology_term_id', 'tissue_ontology_term_id', 'cell_type', 'assay', 'disease', 'organism', 'sex', 'tissue', 'ethnicity', 'development_stage'\n",
       "    var: 'feature_types', 'n_cells', 'author_feature_name', 'feature_biotype', 'feature_is_filtered', 'feature_name', 'feature_reference'\n",
       "    uns: 'X_normalization', 'antibody_X', 'antibody_features', 'antibody_raw.X', 'default_embedding', 'schema_version', 'title'\n",
       "    obsm: 'X_umap'"
      ]
     },
     "execution_count": 3,
     "metadata": {},
     "output_type": "execute_result"
    }
   ],
   "source": [
    "pd.set_option('display.max_rows', None)\n",
    "new_obj"
   ]
  },
  {
   "cell_type": "code",
   "execution_count": 24,
   "metadata": {},
   "outputs": [
    {
     "data": {
      "text/plain": [
       "array([[ 3.593255  , -2.698977  ],\n",
       "       [ 7.889759  , 13.317112  ],\n",
       "       [ 1.536174  ,  7.3429713 ],\n",
       "       ...,\n",
       "       [ 3.139103  ,  0.37050298],\n",
       "       [13.846617  ,  3.08658   ],\n",
       "       [11.402165  ,  2.4684281 ]], dtype=float32)"
      ]
     },
     "execution_count": 24,
     "metadata": {},
     "output_type": "execute_result"
    }
   ],
   "source": [
    "new_obj.obsm['X_umap']"
   ]
  },
  {
   "cell_type": "code",
   "execution_count": 4,
   "metadata": {},
   "outputs": [
    {
     "data": {
      "text/html": [
       "<div>\n",
       "<style scoped>\n",
       "    .dataframe tbody tr th:only-of-type {\n",
       "        vertical-align: middle;\n",
       "    }\n",
       "\n",
       "    .dataframe tbody tr th {\n",
       "        vertical-align: top;\n",
       "    }\n",
       "\n",
       "    .dataframe thead th {\n",
       "        text-align: right;\n",
       "    }\n",
       "</style>\n",
       "<table border=\"1\" class=\"dataframe\">\n",
       "  <thead>\n",
       "    <tr style=\"text-align: right;\">\n",
       "      <th></th>\n",
       "      <th>feature_types</th>\n",
       "      <th>n_cells</th>\n",
       "      <th>author_feature_name</th>\n",
       "      <th>feature_biotype</th>\n",
       "      <th>feature_is_filtered</th>\n",
       "      <th>feature_name</th>\n",
       "      <th>feature_reference</th>\n",
       "    </tr>\n",
       "  </thead>\n",
       "  <tbody>\n",
       "    <tr>\n",
       "      <th>ENSG00000238009</th>\n",
       "      <td>Gene Expression</td>\n",
       "      <td>108</td>\n",
       "      <td>AL627309.1</td>\n",
       "      <td>gene</td>\n",
       "      <td>False</td>\n",
       "      <td>RP11-34P13.7</td>\n",
       "      <td>NCBITaxon:9606</td>\n",
       "    </tr>\n",
       "    <tr>\n",
       "      <th>ENSG00000239945</th>\n",
       "      <td>Gene Expression</td>\n",
       "      <td>3</td>\n",
       "      <td>AL627309.3</td>\n",
       "      <td>gene</td>\n",
       "      <td>False</td>\n",
       "      <td>RP11-34P13.8</td>\n",
       "      <td>NCBITaxon:9606</td>\n",
       "    </tr>\n",
       "    <tr>\n",
       "      <th>ENSG00000239906</th>\n",
       "      <td>Gene Expression</td>\n",
       "      <td>22</td>\n",
       "      <td>AL627309.2</td>\n",
       "      <td>gene</td>\n",
       "      <td>False</td>\n",
       "      <td>RP11-34P13.14</td>\n",
       "      <td>NCBITaxon:9606</td>\n",
       "    </tr>\n",
       "    <tr>\n",
       "      <th>ENSG00000229905</th>\n",
       "      <td>Gene Expression</td>\n",
       "      <td>5</td>\n",
       "      <td>AL669831.2</td>\n",
       "      <td>gene</td>\n",
       "      <td>False</td>\n",
       "      <td>RP11-206L10.4</td>\n",
       "      <td>NCBITaxon:9606</td>\n",
       "    </tr>\n",
       "    <tr>\n",
       "      <th>ENSG00000237491</th>\n",
       "      <td>Gene Expression</td>\n",
       "      <td>1085</td>\n",
       "      <td>AL669831.5</td>\n",
       "      <td>gene</td>\n",
       "      <td>False</td>\n",
       "      <td>LINC01409</td>\n",
       "      <td>NCBITaxon:9606</td>\n",
       "    </tr>\n",
       "  </tbody>\n",
       "</table>\n",
       "</div>"
      ],
      "text/plain": [
       "                   feature_types  n_cells author_feature_name feature_biotype  \\\n",
       "ENSG00000238009  Gene Expression      108          AL627309.1            gene   \n",
       "ENSG00000239945  Gene Expression        3          AL627309.3            gene   \n",
       "ENSG00000239906  Gene Expression       22          AL627309.2            gene   \n",
       "ENSG00000229905  Gene Expression        5          AL669831.2            gene   \n",
       "ENSG00000237491  Gene Expression     1085          AL669831.5            gene   \n",
       "\n",
       "                 feature_is_filtered   feature_name feature_reference  \n",
       "ENSG00000238009                False   RP11-34P13.7    NCBITaxon:9606  \n",
       "ENSG00000239945                False   RP11-34P13.8    NCBITaxon:9606  \n",
       "ENSG00000239906                False  RP11-34P13.14    NCBITaxon:9606  \n",
       "ENSG00000229905                False  RP11-206L10.4    NCBITaxon:9606  \n",
       "ENSG00000237491                False      LINC01409    NCBITaxon:9606  "
      ]
     },
     "execution_count": 4,
     "metadata": {},
     "output_type": "execute_result"
    }
   ],
   "source": [
    "new_obj.var.head()"
   ]
  },
  {
   "cell_type": "code",
   "execution_count": 5,
   "metadata": {},
   "outputs": [
    {
     "name": "stdout",
     "output_type": "stream",
     "text": [
      "22224\n"
     ]
    }
   ],
   "source": [
    "genes_list = []\n",
    "for index in new_obj.var.index:\n",
    "    genes_list.append(index)\n",
    "    \n",
    "print(len(genes_list))"
   ]
  },
  {
   "cell_type": "code",
   "execution_count": 6,
   "metadata": {},
   "outputs": [
    {
     "data": {
      "text/plain": [
       "(22224, 7)"
      ]
     },
     "execution_count": 6,
     "metadata": {},
     "output_type": "execute_result"
    }
   ],
   "source": [
    "new_obj.var.shape"
   ]
  },
  {
   "cell_type": "code",
   "execution_count": 7,
   "metadata": {},
   "outputs": [
    {
     "data": {
      "text/html": [
       "<div>\n",
       "<style scoped>\n",
       "    .dataframe tbody tr th:only-of-type {\n",
       "        vertical-align: middle;\n",
       "    }\n",
       "\n",
       "    .dataframe tbody tr th {\n",
       "        vertical-align: top;\n",
       "    }\n",
       "\n",
       "    .dataframe thead th {\n",
       "        text-align: right;\n",
       "    }\n",
       "</style>\n",
       "<table border=\"1\" class=\"dataframe\">\n",
       "  <thead>\n",
       "    <tr style=\"text-align: right;\">\n",
       "      <th></th>\n",
       "      <th>n_genes</th>\n",
       "      <th>n_counts</th>\n",
       "      <th>Batch</th>\n",
       "      <th>Donor_ID</th>\n",
       "      <th>Sample_ID</th>\n",
       "      <th>SARS-CoV-2_PCR</th>\n",
       "      <th>Group</th>\n",
       "      <th>Annotation</th>\n",
       "      <th>assay_ontology_term_id</th>\n",
       "      <th>cell_type_ontology_term_id</th>\n",
       "      <th>...</th>\n",
       "      <th>sex_ontology_term_id</th>\n",
       "      <th>tissue_ontology_term_id</th>\n",
       "      <th>cell_type</th>\n",
       "      <th>assay</th>\n",
       "      <th>disease</th>\n",
       "      <th>organism</th>\n",
       "      <th>sex</th>\n",
       "      <th>tissue</th>\n",
       "      <th>ethnicity</th>\n",
       "      <th>development_stage</th>\n",
       "    </tr>\n",
       "  </thead>\n",
       "  <tbody>\n",
       "    <tr>\n",
       "      <th>RV8919578_AAACCTGAGAAACCTA-1</th>\n",
       "      <td>1159</td>\n",
       "      <td>2714.0</td>\n",
       "      <td>1</td>\n",
       "      <td>CV19-I-O-3</td>\n",
       "      <td>RV8919578</td>\n",
       "      <td>Positive</td>\n",
       "      <td>Multiple Sclerosis</td>\n",
       "      <td>NK CD56(bright)</td>\n",
       "      <td>EFO:0011025</td>\n",
       "      <td>CL:0000938</td>\n",
       "      <td>...</td>\n",
       "      <td>unknown</td>\n",
       "      <td>UBERON:0000178</td>\n",
       "      <td>CD16-negative, CD56-bright natural killer cell...</td>\n",
       "      <td>10x 5' v1</td>\n",
       "      <td>COVID-19</td>\n",
       "      <td>Homo sapiens</td>\n",
       "      <td>unknown</td>\n",
       "      <td>blood</td>\n",
       "      <td>unknown</td>\n",
       "      <td>unknown</td>\n",
       "    </tr>\n",
       "    <tr>\n",
       "      <th>RV8919578_AAACCTGAGAGCAATT-1</th>\n",
       "      <td>2058</td>\n",
       "      <td>7853.0</td>\n",
       "      <td>1</td>\n",
       "      <td>CV19-I-O-3</td>\n",
       "      <td>RV8919578</td>\n",
       "      <td>Positive</td>\n",
       "      <td>Multiple Sclerosis</td>\n",
       "      <td>Naïve B</td>\n",
       "      <td>EFO:0011025</td>\n",
       "      <td>CL:0000788</td>\n",
       "      <td>...</td>\n",
       "      <td>unknown</td>\n",
       "      <td>UBERON:0000178</td>\n",
       "      <td>naive B cell</td>\n",
       "      <td>10x 5' v1</td>\n",
       "      <td>COVID-19</td>\n",
       "      <td>Homo sapiens</td>\n",
       "      <td>unknown</td>\n",
       "      <td>blood</td>\n",
       "      <td>unknown</td>\n",
       "      <td>unknown</td>\n",
       "    </tr>\n",
       "    <tr>\n",
       "      <th>RV8919578_AAACCTGAGAGCTGGT-1</th>\n",
       "      <td>2597</td>\n",
       "      <td>10386.0</td>\n",
       "      <td>1</td>\n",
       "      <td>CV19-I-O-2</td>\n",
       "      <td>RV8919578</td>\n",
       "      <td>Positive</td>\n",
       "      <td>Multiple Sclerosis</td>\n",
       "      <td>pDC</td>\n",
       "      <td>EFO:0011025</td>\n",
       "      <td>CL:0000784</td>\n",
       "      <td>...</td>\n",
       "      <td>unknown</td>\n",
       "      <td>UBERON:0000178</td>\n",
       "      <td>plasmacytoid dendritic cell</td>\n",
       "      <td>10x 5' v1</td>\n",
       "      <td>COVID-19</td>\n",
       "      <td>Homo sapiens</td>\n",
       "      <td>unknown</td>\n",
       "      <td>blood</td>\n",
       "      <td>unknown</td>\n",
       "      <td>unknown</td>\n",
       "    </tr>\n",
       "    <tr>\n",
       "      <th>RV8919578_AAACCTGAGCGAAGGG-1</th>\n",
       "      <td>1902</td>\n",
       "      <td>5645.0</td>\n",
       "      <td>1</td>\n",
       "      <td>CV19-I-O-3</td>\n",
       "      <td>RV8919578</td>\n",
       "      <td>Positive</td>\n",
       "      <td>Multiple Sclerosis</td>\n",
       "      <td>NK CD56(dim)</td>\n",
       "      <td>EFO:0011025</td>\n",
       "      <td>CL:0000939</td>\n",
       "      <td>...</td>\n",
       "      <td>unknown</td>\n",
       "      <td>UBERON:0000178</td>\n",
       "      <td>CD16-positive, CD56-dim natural killer cell, h...</td>\n",
       "      <td>10x 5' v1</td>\n",
       "      <td>COVID-19</td>\n",
       "      <td>Homo sapiens</td>\n",
       "      <td>unknown</td>\n",
       "      <td>blood</td>\n",
       "      <td>unknown</td>\n",
       "      <td>unknown</td>\n",
       "    </tr>\n",
       "    <tr>\n",
       "      <th>RV8919578_AAACCTGAGCGATGAC-1</th>\n",
       "      <td>882</td>\n",
       "      <td>3754.0</td>\n",
       "      <td>1</td>\n",
       "      <td>CV19-I-O-2</td>\n",
       "      <td>RV8919578</td>\n",
       "      <td>Positive</td>\n",
       "      <td>Multiple Sclerosis</td>\n",
       "      <td>NK CD56(bright)</td>\n",
       "      <td>EFO:0011025</td>\n",
       "      <td>CL:0000938</td>\n",
       "      <td>...</td>\n",
       "      <td>unknown</td>\n",
       "      <td>UBERON:0000178</td>\n",
       "      <td>CD16-negative, CD56-bright natural killer cell...</td>\n",
       "      <td>10x 5' v1</td>\n",
       "      <td>COVID-19</td>\n",
       "      <td>Homo sapiens</td>\n",
       "      <td>unknown</td>\n",
       "      <td>blood</td>\n",
       "      <td>unknown</td>\n",
       "      <td>unknown</td>\n",
       "    </tr>\n",
       "  </tbody>\n",
       "</table>\n",
       "<p>5 rows × 25 columns</p>\n",
       "</div>"
      ],
      "text/plain": [
       "                              n_genes  n_counts Batch    Donor_ID  Sample_ID  \\\n",
       "RV8919578_AAACCTGAGAAACCTA-1     1159    2714.0     1  CV19-I-O-3  RV8919578   \n",
       "RV8919578_AAACCTGAGAGCAATT-1     2058    7853.0     1  CV19-I-O-3  RV8919578   \n",
       "RV8919578_AAACCTGAGAGCTGGT-1     2597   10386.0     1  CV19-I-O-2  RV8919578   \n",
       "RV8919578_AAACCTGAGCGAAGGG-1     1902    5645.0     1  CV19-I-O-3  RV8919578   \n",
       "RV8919578_AAACCTGAGCGATGAC-1      882    3754.0     1  CV19-I-O-2  RV8919578   \n",
       "\n",
       "                             SARS-CoV-2_PCR               Group  \\\n",
       "RV8919578_AAACCTGAGAAACCTA-1       Positive  Multiple Sclerosis   \n",
       "RV8919578_AAACCTGAGAGCAATT-1       Positive  Multiple Sclerosis   \n",
       "RV8919578_AAACCTGAGAGCTGGT-1       Positive  Multiple Sclerosis   \n",
       "RV8919578_AAACCTGAGCGAAGGG-1       Positive  Multiple Sclerosis   \n",
       "RV8919578_AAACCTGAGCGATGAC-1       Positive  Multiple Sclerosis   \n",
       "\n",
       "                                   Annotation assay_ontology_term_id  \\\n",
       "RV8919578_AAACCTGAGAAACCTA-1  NK CD56(bright)            EFO:0011025   \n",
       "RV8919578_AAACCTGAGAGCAATT-1          Naïve B            EFO:0011025   \n",
       "RV8919578_AAACCTGAGAGCTGGT-1              pDC            EFO:0011025   \n",
       "RV8919578_AAACCTGAGCGAAGGG-1     NK CD56(dim)            EFO:0011025   \n",
       "RV8919578_AAACCTGAGCGATGAC-1  NK CD56(bright)            EFO:0011025   \n",
       "\n",
       "                             cell_type_ontology_term_id  ...  \\\n",
       "RV8919578_AAACCTGAGAAACCTA-1                 CL:0000938  ...   \n",
       "RV8919578_AAACCTGAGAGCAATT-1                 CL:0000788  ...   \n",
       "RV8919578_AAACCTGAGAGCTGGT-1                 CL:0000784  ...   \n",
       "RV8919578_AAACCTGAGCGAAGGG-1                 CL:0000939  ...   \n",
       "RV8919578_AAACCTGAGCGATGAC-1                 CL:0000938  ...   \n",
       "\n",
       "                             sex_ontology_term_id tissue_ontology_term_id  \\\n",
       "RV8919578_AAACCTGAGAAACCTA-1              unknown          UBERON:0000178   \n",
       "RV8919578_AAACCTGAGAGCAATT-1              unknown          UBERON:0000178   \n",
       "RV8919578_AAACCTGAGAGCTGGT-1              unknown          UBERON:0000178   \n",
       "RV8919578_AAACCTGAGCGAAGGG-1              unknown          UBERON:0000178   \n",
       "RV8919578_AAACCTGAGCGATGAC-1              unknown          UBERON:0000178   \n",
       "\n",
       "                                                                      cell_type  \\\n",
       "RV8919578_AAACCTGAGAAACCTA-1  CD16-negative, CD56-bright natural killer cell...   \n",
       "RV8919578_AAACCTGAGAGCAATT-1                                       naive B cell   \n",
       "RV8919578_AAACCTGAGAGCTGGT-1                        plasmacytoid dendritic cell   \n",
       "RV8919578_AAACCTGAGCGAAGGG-1  CD16-positive, CD56-dim natural killer cell, h...   \n",
       "RV8919578_AAACCTGAGCGATGAC-1  CD16-negative, CD56-bright natural killer cell...   \n",
       "\n",
       "                                  assay   disease      organism      sex  \\\n",
       "RV8919578_AAACCTGAGAAACCTA-1  10x 5' v1  COVID-19  Homo sapiens  unknown   \n",
       "RV8919578_AAACCTGAGAGCAATT-1  10x 5' v1  COVID-19  Homo sapiens  unknown   \n",
       "RV8919578_AAACCTGAGAGCTGGT-1  10x 5' v1  COVID-19  Homo sapiens  unknown   \n",
       "RV8919578_AAACCTGAGCGAAGGG-1  10x 5' v1  COVID-19  Homo sapiens  unknown   \n",
       "RV8919578_AAACCTGAGCGATGAC-1  10x 5' v1  COVID-19  Homo sapiens  unknown   \n",
       "\n",
       "                             tissue ethnicity development_stage  \n",
       "RV8919578_AAACCTGAGAAACCTA-1  blood   unknown           unknown  \n",
       "RV8919578_AAACCTGAGAGCAATT-1  blood   unknown           unknown  \n",
       "RV8919578_AAACCTGAGAGCTGGT-1  blood   unknown           unknown  \n",
       "RV8919578_AAACCTGAGCGAAGGG-1  blood   unknown           unknown  \n",
       "RV8919578_AAACCTGAGCGATGAC-1  blood   unknown           unknown  \n",
       "\n",
       "[5 rows x 25 columns]"
      ]
     },
     "execution_count": 7,
     "metadata": {},
     "output_type": "execute_result"
    }
   ],
   "source": [
    "new_obj.obs.head()"
   ]
  },
  {
   "cell_type": "code",
   "execution_count": 8,
   "metadata": {},
   "outputs": [
    {
     "data": {
      "text/plain": [
       "(97499, 25)"
      ]
     },
     "execution_count": 8,
     "metadata": {},
     "output_type": "execute_result"
    }
   ],
   "source": [
    "new_obj.obs.shape"
   ]
  },
  {
   "cell_type": "code",
   "execution_count": 10,
   "metadata": {},
   "outputs": [
    {
     "name": "stdout",
     "output_type": "stream",
     "text": [
      "97499\n"
     ]
    }
   ],
   "source": [
    "cells_list = []\n",
    "for row in new_obj.obs.index:\n",
    "    cells_list.append(row[10:])\n",
    "    \n",
    "print(len(cells_list))"
   ]
  },
  {
   "cell_type": "code",
   "execution_count": 11,
   "metadata": {},
   "outputs": [],
   "source": [
    "merged_list = [genes_list, cells_list]"
   ]
  },
  {
   "cell_type": "code",
   "execution_count": 25,
   "metadata": {},
   "outputs": [
    {
     "name": "stdout",
     "output_type": "stream",
     "text": [
      "2\n"
     ]
    }
   ],
   "source": [
    "print(len(merged_list))"
   ]
  },
  {
   "cell_type": "code",
   "execution_count": 7,
   "metadata": {},
   "outputs": [
    {
     "name": "stderr",
     "output_type": "stream",
     "text": [
      "/home/icb/matthias.heinig/packages/miniconda3/lib/python3.7/site-packages/IPython/core/interactiveshell.py:3147: DtypeWarning: Columns (8,9,27) have mixed types.Specify dtype option on import or set low_memory=False.\n",
      "  interactivity=interactivity, compiler=compiler, result=result)\n"
     ]
    },
    {
     "data": {
      "text/plain": [
       "881081"
      ]
     },
     "execution_count": 7,
     "metadata": {},
     "output_type": "execute_result"
    }
   ],
   "source": [
    "# we have re annotated the cells a couple of times\n",
    "meta = pd.read_csv(\"../data/current/celltype_abundance/global_all_ANNOTATED_CELLSTATES_RAW_V8_OBS_LONG.csv\", index_col=0)\n",
    "meta.Region = meta.Region.replace({\"FW\":\"LV\", \"S\":\"LV\", \"AP\":\"LV\"})\n",
    "np.sum(meta.index == raw_obj.obs.index)"
   ]
  },
  {
   "cell_type": "code",
   "execution_count": 8,
   "metadata": {},
   "outputs": [
    {
     "data": {
      "text/plain": [
       "Index(['Patient', 'Sample', 'Sex', 'Gene', 'Phenotype',\n",
       "       'Primary.Genetic.Phenotype', 'Age', 'Mutation.Type', 'Genomic.location',\n",
       "       'Region', 'Tissue.source', 'n_genes', 'percent_mito', 'percent_ribo',\n",
       "       'X10X_version', 'n_counts', 'solo_score', 'predicted_doublets_solo',\n",
       "       'scrublet_score_z', 'predicted_doublets_z', 'scrublet_score_log',\n",
       "       'predicted_doublets_log', 'Replicate', 'cell_states_20200602',\n",
       "       'cell_type_20200602', 'cell_type_20200921', 'cell_type_global_HCA',\n",
       "       'cell_states_HCA', 'cell_type_fine_20200921', 'cell_states_20200921',\n",
       "       'cell_states_long_20200921', 'cell_states_20210218',\n",
       "       'validated_20210218', 'leiden_01', 'leiden_02', 'leiden_03',\n",
       "       'leiden_04', 'cell_type', 'cell_states_20210302', 'cell_states_long',\n",
       "       'Assigned', 'cell_type_toplot1', 'cell_type_toplot2',\n",
       "       'cell_type_toplot3', 'cell_type_toplot4', 'cell_states_20210510',\n",
       "       'cell_states'],\n",
       "      dtype='object')"
      ]
     },
     "execution_count": 8,
     "metadata": {},
     "output_type": "execute_result"
    }
   ],
   "source": [
    "meta.columns"
   ]
  },
  {
   "cell_type": "code",
   "execution_count": 9,
   "metadata": {},
   "outputs": [
    {
     "data": {
      "text/plain": [
       "(881081, 47)"
      ]
     },
     "execution_count": 9,
     "metadata": {},
     "output_type": "execute_result"
    }
   ],
   "source": [
    "meta.shape"
   ]
  },
  {
   "cell_type": "markdown",
   "metadata": {},
   "source": [
    "## Define functions to update meta data with ontology terms"
   ]
  },
  {
   "cell_type": "code",
   "execution_count": 10,
   "metadata": {},
   "outputs": [],
   "source": [
    "def update_uns(obj):\n",
    "    #update uns\n",
    "    obj.uns['version'] = {'corpora_encoding_version': '0.1.0', 'corpora_schema_version': '1.1.0'}\n",
    "    obj.uns['title'] = 'DCM/ACM heart cell atlas'#Should be the publication title\n",
    "    obj.uns['publication_doi'] = \"no doi yet\" #Publication DOI\n",
    "    obj.uns['organism'] = 'Homo sapiens'\n",
    "    obj.uns['organism_ontology_term_id'] = 'NCBITaxon:9606'\n",
    "    obj.uns['layer_descriptions'] = {'X': 'log1p', 'raw.X': 'raw'}"
   ]
  },
  {
   "cell_type": "code",
   "execution_count": 11,
   "metadata": {},
   "outputs": [],
   "source": [
    "def map_to_ontology(new_obs):\n",
    "    nobs = new_obs.shape[0]#Set nobs for columns where all observations are the same\n",
    "    \n",
    "    ######\n",
    "    # recode the age into bins of 10 years\n",
    "    tens = np.round(new_obs['Age'] / 10) * 10\n",
    "    new_obs.loc[:,'Age'] = pd.Series(tens)\n",
    "    \n",
    "    ######\n",
    "    #tissue\n",
    "    new_obs.loc[:,'tissue'] = pd.Series(['heart']).repeat(nobs).values\n",
    "    new_obs.loc[:,'tissue_ontology_term_id'] = pd.Series(['UBERON:0000948']).repeat(nobs).values\n",
    "\n",
    "    ######\n",
    "    #assay\n",
    "    new_obs.loc[:,'assay'] = pd.Series(['scRNA-seq']).repeat(nobs).values\n",
    "    new_obs.loc[:,'assay_ontology_term_id'] = pd.Series(['EFO:0008913']).repeat(nobs).values\n",
    "\n",
    "    ######\n",
    "    #ethnicity\n",
    "    new_obs.loc[:,'ethnicity'] = pd.Series(['unknown']).repeat(nobs).values\n",
    "    new_obs.loc[:,'ethnicity_ontology_term_id'] = pd.Series(['']).repeat(nobs).values\n",
    "\n",
    "    ######\n",
    "    #development stage\t\n",
    "    new_obs.loc[:,'development_stage'] = pd.Series(['human adult stage']).repeat(nobs).values\n",
    "    new_obs.loc[:,'development_stage_ontology_term_id'] = pd.Series(['HsapDv:0000087']).repeat(nobs).values\n",
    "\n",
    "    ######\n",
    "    #disease\n",
    "    disease_mapping = {'DCM': 'dilated cardiomyopathy',\n",
    "                       'ARVC': 'arrhythmogenic right ventricular cardiomyopathy',\n",
    "                       'Control': 'normal',\n",
    "                       'RCM/LVNC': 'Left Ventricular Non-Compaction Cardiomyopathy'}#appropriate mondo term?\n",
    "    new_obs.loc[:,'disease'] = new_obs.loc[:,'Phenotype'].map(disease_mapping)\n",
    "\n",
    "    disease_ontology_mapping = {'DCM': 'MONDO:0005021',\n",
    "                                'ARVC': 'MONDO:0016587',\n",
    "                                'Control': 'PATO:0000461',\n",
    "                                'RCM/LVNC': 'HP:0011664'}#appropriate mondo term id?\n",
    "    new_obs.loc[:,'disease_ontology_term_id'] = new_obs.loc[:,'Phenotype'].map(disease_ontology_mapping)\n",
    "\n",
    "    ######\n",
    "    #cell type\n",
    "    cell_type_ontology_mapping = {'AD': 'CL:0000136',\n",
    "                                  'CM': 'CL:0000746',\n",
    "                                  'EC': 'CL:0000115',\n",
    "                                  'FB': 'CL:0002548',\n",
    "                                  'Lymphoid': 'CL:0000542',\n",
    "                                  'Mast': 'CL:0000097',\n",
    "                                  'Mural': 'CL:0008034',\n",
    "                                  'Myeloid': 'CL:0000763',\n",
    "                                  'NC': 'CL:0010022'}#appropriate CL term id?\n",
    "    new_obs.loc[:,'cell_type_ontology_term_id'] = new_obs.loc[:,'cell_type'].map(cell_type_ontology_mapping)\n",
    "\n",
    "    cell_type_mapping = {'AD': 'fat cell',\n",
    "                         'CM': 'cardiac muscle cell',\n",
    "                         'EC': 'endothelial cell',\n",
    "                         'FB': 'fibroblast of cardiac tissue',\n",
    "                         'Lymphoid': 'lymphocyte',\n",
    "                         'Mast': 'mast cell',\n",
    "                         'Mural': 'mural cell',\n",
    "                         'Myeloid': 'myeloid cell',\n",
    "                         'NC': 'neuronal cell'}#appropriate CL term?\n",
    "    new_obs.loc[:,'cell_type'] = new_obs.loc[:,'cell_type'].map(cell_type_mapping)\n",
    "\n",
    "\n",
    "    ######\n",
    "    #sex\n",
    "    sex_mapping = {'m': 'male',\n",
    "                   'f': 'female'}\n",
    "\n",
    "    new_obs.loc[:,'Sex'] = new_obs.loc[:,'Sex'].map(sex_mapping)\n",
    "    return new_obs\n",
    "\n"
   ]
  },
  {
   "cell_type": "markdown",
   "metadata": {},
   "source": [
    "Update the raw counts object"
   ]
  },
  {
   "cell_type": "code",
   "execution_count": 12,
   "metadata": {},
   "outputs": [],
   "source": [
    "cols = ['Sample', 'Patient', 'Sex', 'Age', 'Region', 'Phenotype', 'Primary.Genetic.Phenotype', \n",
    "        'X10X_version', 'n_genes', 'n_counts', 'percent_mito', 'percent_ribo', 'scrublet_score_z', \n",
    "        'scrublet_score_log', 'solo_score', 'cell_type', 'cell_states', 'Assigned']"
   ]
  },
  {
   "cell_type": "code",
   "execution_count": 13,
   "metadata": {},
   "outputs": [],
   "source": [
    "new_obs = meta.copy()\n",
    "new_obs = map_to_ontology(new_obs.loc[:,cols])\n",
    "new_obs.rename(columns={'Primary.Genetic.Phenotype':'Primary.Genetic.Diagnosis'}, inplace=True)\n",
    "raw_obj.obs = new_obs\n",
    "update_uns(raw_obj)"
   ]
  },
  {
   "cell_type": "markdown",
   "metadata": {},
   "source": [
    "Test the updating with the adipocytes before looping over the rest of the objects"
   ]
  },
  {
   "cell_type": "code",
   "execution_count": 14,
   "metadata": {},
   "outputs": [
    {
     "data": {
      "text/plain": [
       "(2576, 33538)"
      ]
     },
     "execution_count": 14,
     "metadata": {},
     "output_type": "execute_result"
    }
   ],
   "source": [
    "new_obj.X.shape"
   ]
  },
  {
   "cell_type": "code",
   "execution_count": 15,
   "metadata": {},
   "outputs": [
    {
     "name": "stderr",
     "output_type": "stream",
     "text": [
      "/home/icb/matthias.heinig/packages/miniconda3/lib/python3.7/site-packages/anndata/_core/anndata.py:1094: FutureWarning: is_categorical is deprecated and will be removed in a future version.  Use is_categorical_dtype instead\n",
      "  if not is_categorical(df_full[k]):\n"
     ]
    }
   ],
   "source": [
    "new_obj.raw = raw_obj[new_obj.obs.index,:]"
   ]
  },
  {
   "cell_type": "markdown",
   "metadata": {},
   "source": [
    "The endothelial cell object has a suffix that needs to be removed (see comment in code below). The mural object also has some barcodes that are not in the meta data. Check those:"
   ]
  },
  {
   "cell_type": "code",
   "execution_count": 16,
   "metadata": {},
   "outputs": [],
   "source": [
    "obj = sc.read(\"%s/%s\" % (input_dir, \"Muralcells.h5ad\"))\n",
    "missing_bc = obj.obs.index[~obj.obs.index.isin(meta.index)].to_list()\n",
    "missing_obs = obj.obs.loc[missing_bc,:]"
   ]
  },
  {
   "cell_type": "code",
   "execution_count": 17,
   "metadata": {},
   "outputs": [
    {
     "data": {
      "text/plain": [
       "H84       0\n",
       "H06       0\n",
       "H02       0\n",
       "H02_IC    0\n",
       "H03       0\n",
       "         ..\n",
       "H33       0\n",
       "H34       0\n",
       "H35       0\n",
       "H36       0\n",
       "BS_H15    0\n",
       "Name: Patient, Length: 79, dtype: int64"
      ]
     },
     "execution_count": 17,
     "metadata": {},
     "output_type": "execute_result"
    }
   ],
   "source": [
    "missing_obs.loc[:,\"Patient\"].value_counts()"
   ]
  },
  {
   "cell_type": "code",
   "execution_count": 18,
   "metadata": {},
   "outputs": [
    {
     "data": {
      "text/html": [
       "<div>\n",
       "<style scoped>\n",
       "    .dataframe tbody tr th:only-of-type {\n",
       "        vertical-align: middle;\n",
       "    }\n",
       "\n",
       "    .dataframe tbody tr th {\n",
       "        vertical-align: top;\n",
       "    }\n",
       "\n",
       "    .dataframe thead th {\n",
       "        text-align: right;\n",
       "    }\n",
       "</style>\n",
       "<table border=\"1\" class=\"dataframe\">\n",
       "  <thead>\n",
       "    <tr style=\"text-align: right;\">\n",
       "      <th></th>\n",
       "      <th>Sample</th>\n",
       "      <th>Patient</th>\n",
       "      <th>Sex</th>\n",
       "      <th>Region</th>\n",
       "      <th>Phenotype</th>\n",
       "      <th>Primary.Genetic.Diagnosis</th>\n",
       "      <th>n_genes</th>\n",
       "      <th>n_counts</th>\n",
       "      <th>percent_mito</th>\n",
       "      <th>percent_ribo</th>\n",
       "      <th>scrublet_score_z</th>\n",
       "      <th>scrublet_score_log</th>\n",
       "      <th>solo_score</th>\n",
       "      <th>cell_type</th>\n",
       "      <th>cell_states</th>\n",
       "    </tr>\n",
       "  </thead>\n",
       "  <tbody>\n",
       "  </tbody>\n",
       "</table>\n",
       "</div>"
      ],
      "text/plain": [
       "Empty DataFrame\n",
       "Columns: [Sample, Patient, Sex, Region, Phenotype, Primary.Genetic.Diagnosis, n_genes, n_counts, percent_mito, percent_ribo, scrublet_score_z, scrublet_score_log, solo_score, cell_type, cell_states]\n",
       "Index: []"
      ]
     },
     "execution_count": 18,
     "metadata": {},
     "output_type": "execute_result"
    }
   ],
   "source": [
    "missing_obs.loc[missing_obs.loc[:,\"Patient\"].isin([\"H15\", \"H42\"]),:].head()"
   ]
  },
  {
   "cell_type": "code",
   "execution_count": 25,
   "metadata": {},
   "outputs": [
    {
     "name": "stdout",
     "output_type": "stream",
     "text": [
      "Cardiomyocytes2.h5ad\n"
     ]
    },
    {
     "name": "stderr",
     "output_type": "stream",
     "text": [
      "/home/icb/matthias.heinig/packages/miniconda3/lib/python3.7/site-packages/anndata/_core/anndata.py:1094: FutureWarning: is_categorical is deprecated and will be removed in a future version.  Use is_categorical_dtype instead\n",
      "  if not is_categorical(df_full[k]):\n",
      "/home/icb/matthias.heinig/packages/miniconda3/lib/python3.7/site-packages/anndata/_core/anndata.py:1192: FutureWarning: is_categorical is deprecated and will be removed in a future version.  Use is_categorical_dtype instead\n",
      "  if is_string_dtype(df[key]) and not is_categorical(df[key])\n"
     ]
    },
    {
     "name": "stdout",
     "output_type": "stream",
     "text": [
      "writing output to ../data/current/publication/20220105/for_cellxgene/Cardiomyocytes2.h5ad\n"
     ]
    },
    {
     "name": "stderr",
     "output_type": "stream",
     "text": [
      "... storing 'Sample' as categorical\n",
      "... storing 'Patient' as categorical\n",
      "... storing 'Sex' as categorical\n",
      "... storing 'Region' as categorical\n",
      "... storing 'Phenotype' as categorical\n",
      "... storing 'Primary.Genetic.Diagnosis' as categorical\n",
      "... storing 'X10X_version' as categorical\n",
      "... storing 'cell_type' as categorical\n",
      "... storing 'cell_states' as categorical\n",
      "... storing 'tissue' as categorical\n",
      "... storing 'tissue_ontology_term_id' as categorical\n",
      "... storing 'assay' as categorical\n",
      "... storing 'assay_ontology_term_id' as categorical\n",
      "... storing 'ethnicity' as categorical\n",
      "... storing 'ethnicity_ontology_term_id' as categorical\n",
      "... storing 'development_stage' as categorical\n",
      "... storing 'development_stage_ontology_term_id' as categorical\n",
      "... storing 'disease' as categorical\n",
      "... storing 'disease_ontology_term_id' as categorical\n",
      "... storing 'cell_type_ontology_term_id' as categorical\n"
     ]
    }
   ],
   "source": [
    "for ifile in input_files:\n",
    "    print(ifile)\n",
    "    obj = sc.read(\"%s/%s\" % (input_dir, ifile))\n",
    "    new_obs = meta.copy() #temp dataframe\n",
    "    # check if endothelial cells and remove suffix\n",
    "    if (ifile == \"Endothelialcells.h5ad\"):\n",
    "        obj.obs.index=[re.sub(\"-[0-9]$\", \"\", i) for i in obj.obs.index]\n",
    "    # check if all barcodes are in the meta data table\n",
    "    if (np.sum(obj.obs.index.isin(meta.index)) != obj.shape[0]):\n",
    "        print(\"barcodes missing in meta data (found %s of %s)\" % (np.sum(obj.obs.index.isin(meta.index)), obj.shape[0]))\n",
    "        continue\n",
    "    # check if all barcodes are in the raw data\n",
    "    if (np.sum(obj.obs.index.isin(raw_obj.obs.index)) != obj.shape[0]):\n",
    "        print(\"barcodes missing in raw data (found %s of %s)\" % (np.sum(obj.obs.index.isin(raw_obj.obs.index)), obj.shape[0]))\n",
    "        continue\n",
    "    new_obs = new_obs.loc[obj.obs.index.to_list(),cols]\n",
    "    new_obs = map_to_ontology(new_obs)\n",
    "    new_obs.rename(columns={'Primary.Genetic.Phenotype':'Primary.Genetic.Diagnosis'}, inplace=True)\n",
    "    update_uns(obj)\n",
    "    obj.obs = new_obs\n",
    "    # update the raw data\n",
    "    obj.raw = raw_obj[new_obj.obs.index,:]\n",
    "    ofile = \"%s/%s\" % (output_dir, ifile)\n",
    "    print(\"writing output to %s\" % ofile)\n",
    "    obj.write(filename=ofile)"
   ]
  },
  {
   "cell_type": "code",
   "execution_count": null,
   "metadata": {},
   "outputs": [],
   "source": []
  },
  {
   "cell_type": "code",
   "execution_count": null,
   "metadata": {},
   "outputs": [],
   "source": [
    "ifile = input_files[0]\n",
    "obj = sc.read(\"%s/%s\" % (input_dir, ifile))"
   ]
  },
  {
   "cell_type": "code",
   "execution_count": null,
   "metadata": {},
   "outputs": [],
   "source": [
    "np.sum(obj.obs.index.isin(meta.index)) == obj.shape[0]"
   ]
  },
  {
   "cell_type": "code",
   "execution_count": null,
   "metadata": {},
   "outputs": [],
   "source": [
    "new_obs.rename(columns={'Primary.Genetic.Phenotype':'Primary.Genetic.Diagnosis'}, inplace=True)\n",
    "new_obs.columns"
   ]
  },
  {
   "cell_type": "code",
   "execution_count": null,
   "metadata": {},
   "outputs": [],
   "source": [
    "meta.index"
   ]
  }
 ],
 "metadata": {
  "kernelspec": {
   "display_name": "Python 3 (ipykernel)",
   "language": "python",
   "name": "python3"
  },
  "language_info": {
   "codemirror_mode": {
    "name": "ipython",
    "version": 3
   },
   "file_extension": ".py",
   "mimetype": "text/x-python",
   "name": "python",
   "nbconvert_exporter": "python",
   "pygments_lexer": "ipython3",
   "version": "3.9.7"
  }
 },
 "nbformat": 4,
 "nbformat_minor": 4
}
